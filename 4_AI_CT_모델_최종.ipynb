{
  "nbformat": 4,
  "nbformat_minor": 0,
  "metadata": {
    "colab": {
      "name": "4 AI_CT_모델_최종.ipynb",
      "provenance": [],
      "collapsed_sections": [
        "7w_E56PwpfO4",
        "btz_7_UKDz_9"
      ],
      "toc_visible": true
    },
    "kernelspec": {
      "name": "python3",
      "display_name": "Python 3"
    },
    "language_info": {
      "name": "python"
    }
  },
  "cells": [
    {
      "cell_type": "markdown",
      "source": [
        "# ✅ 최종 모델 돌리기"
      ],
      "metadata": {
        "id": "5McbbTkTyY38"
      }
    },
    {
      "cell_type": "markdown",
      "source": [
        "**💗최종 모델 돌리는 곳**\n",
        "<br/><br/>\n",
        "\n",
        "생성한 Feature 데이터들을 가져와 모델에 학습시킨다.\n",
        "\n",
        "\n",
        "---\n",
        "\n"
      ],
      "metadata": {
        "id": "ulPnVhTG0y-k"
      }
    },
    {
      "cell_type": "markdown",
      "source": [
        "**[목차 설명]**\n",
        "0. 준비과정\n",
        "    - features.csv파일 pd.read_csv 로 가져옴 -> 모델링에 사용할 데이터\n",
        "1. 모델링\n",
        "2. 평가\n",
        "\n",
        "\n",
        "---\n",
        "\n"
      ],
      "metadata": {
        "id": "edmeau5P2Obo"
      }
    },
    {
      "cell_type": "code",
      "execution_count": null,
      "metadata": {
        "colab": {
          "base_uri": "https://localhost:8080/"
        },
        "id": "bqL-uTm03CdY",
        "outputId": "02ecadea-42a7-43be-8873-e87ff431201a"
      },
      "outputs": [
        {
          "output_type": "stream",
          "name": "stdout",
          "text": [
            "Mounted at /content/drive\n"
          ]
        }
      ],
      "source": [
        "from google.colab import drive\n",
        "drive.mount('/content/drive')"
      ]
    },
    {
      "cell_type": "markdown",
      "source": [
        "### .0.준비과정"
      ],
      "metadata": {
        "id": "7w_E56PwpfO4"
      }
    },
    {
      "cell_type": "markdown",
      "metadata": {
        "id": "btz_7_UKDz_9"
      },
      "source": [
        "#### ◼Data Load\n"
      ]
    },
    {
      "cell_type": "markdown",
      "source": [
        "##### features.csv 파일"
      ],
      "metadata": {
        "id": "wiv2McGWpUJ5"
      }
    },
    {
      "cell_type": "markdown",
      "metadata": {
        "id": "KPDI15PPFF3S"
      },
      "source": [
        "#### ◼import library"
      ]
    },
    {
      "cell_type": "code",
      "execution_count": null,
      "metadata": {
        "id": "NdjeYu-SFFmO"
      },
      "outputs": [],
      "source": [
        "import pandas as pd\n",
        "import numpy as np\n",
        "import os\n",
        "import sys\n",
        "\n",
        "# librosa is a Python library for analyzing audio and music.\n",
        "import librosa\n",
        "import librosa.display\n",
        "import seaborn as sns\n",
        "import matplotlib.pyplot as plt\n",
        "import sklearn\n",
        "\n",
        "from sklearn.preprocessing import StandardScaler, OneHotEncoder\n",
        "from sklearn.metrics import confusion_matrix, classification_report\n",
        "from sklearn.model_selection import train_test_split\n",
        "\n",
        "# to play the audio files\n",
        "from IPython.display import Audio\n",
        "\n",
        "import keras\n",
        "from keras.callbacks import ReduceLROnPlateau\n",
        "from keras.models import Sequential\n",
        "from keras.layers import Dense, Conv1D, MaxPooling1D, Flatten, Dropout, BatchNormalization\n",
        "from keras.utils import np_utils\n",
        "from keras.callbacks import ModelCheckpoint\n",
        "\n",
        "import wave\n",
        "import pylab\n",
        "from pathlib import Path\n",
        "from scipy import signal\n",
        "from scipy.io import wavfile\n",
        "from sklearn.metrics import confusion_matrix\n",
        "import itertools\n",
        "import pylab\n",
        "\n",
        "import matplotlib.pyplot as plt\n",
        "import math"
      ]
    },
    {
      "cell_type": "code",
      "source": [
        "featurecsv = \"/content/drive/MyDrive/AI-CT/features.csv\"\n",
        "Features = pd.read_csv(featurecsv)"
      ],
      "metadata": {
        "id": "aoSkxOgyomOX"
      },
      "execution_count": null,
      "outputs": []
    },
    {
      "cell_type": "markdown",
      "metadata": {
        "id": "HHjdzj_uYvz3"
      },
      "source": [
        "### Data Preparation\n",
        "As of now we have extracted the data, now we need to normalize and split our data for training and testing.\n"
      ]
    },
    {
      "cell_type": "code",
      "execution_count": null,
      "metadata": {
        "id": "Eo699lQWYu5b"
      },
      "outputs": [],
      "source": [
        "X = Features.iloc[: ,:-1].values #데이터 특징 값들\n",
        "Y = Features['labels'].values #감정(Emotion)"
      ]
    },
    {
      "cell_type": "code",
      "execution_count": null,
      "metadata": {
        "id": "SF08F41EYuhk"
      },
      "outputs": [],
      "source": [
        "# As this is a multiclass classification problem onehotencoding our Y.\n",
        "encoder = OneHotEncoder()\n",
        "Y = encoder.fit_transform(np.array(Y).reshape(-1,1)).toarray()"
      ]
    },
    {
      "cell_type": "code",
      "source": [
        "X.shape, Y.shape #총 개 데이터 ( 102972 = 34324 * 3)\n",
        "# X의 컬럼개수 개(특징들)\n",
        "# Y의 컬럼개수 10개 (감정 10개중에 정답감정이 1로 설정됨)"
      ],
      "metadata": {
        "id": "J3g-lkYdFwfQ",
        "colab": {
          "base_uri": "https://localhost:8080/"
        },
        "outputId": "6f039afe-a48b-4b3e-8c8f-cc00dead8d4b"
      },
      "execution_count": null,
      "outputs": [
        {
          "output_type": "execute_result",
          "data": {
            "text/plain": [
              "((102972, 162), (102972, 10))"
            ]
          },
          "metadata": {},
          "execution_count": 6
        }
      ]
    },
    {
      "cell_type": "code",
      "execution_count": null,
      "metadata": {
        "id": "WniiqQ-SY2mX",
        "colab": {
          "base_uri": "https://localhost:8080/"
        },
        "outputId": "b40bb0af-a31c-4bac-98d8-523ababe2eea"
      },
      "outputs": [
        {
          "output_type": "execute_result",
          "data": {
            "text/plain": [
              "((77229, 162), (77229, 10), (25743, 162), (25743, 10))"
            ]
          },
          "metadata": {},
          "execution_count": 7
        }
      ],
      "source": [
        "# splitting data : train데이터, test데이터 나눔\n",
        "x_train, x_test, y_train, y_test = train_test_split(X, Y, random_state=0, shuffle=True)\n",
        "x_train.shape, y_train.shape, x_test.shape, y_test.shape"
      ]
    },
    {
      "cell_type": "code",
      "source": [
        "# y_test(정답파일) csv로 저장\n",
        "#df = pd.DataFrame(y_test) \n",
        "#df.to_csv('answer.csv', index=False)"
      ],
      "metadata": {
        "id": "qgLY5xeFhU6y"
      },
      "execution_count": null,
      "outputs": []
    },
    {
      "cell_type": "code",
      "execution_count": null,
      "metadata": {
        "id": "VpAKoZXOY3yP",
        "colab": {
          "base_uri": "https://localhost:8080/"
        },
        "outputId": "2aa8592b-1322-4f6c-a709-d4ffa811e6ad"
      },
      "outputs": [
        {
          "output_type": "execute_result",
          "data": {
            "text/plain": [
              "((77229, 162), (77229, 10), (25743, 162), (25743, 10))"
            ]
          },
          "metadata": {},
          "execution_count": 9
        }
      ],
      "source": [
        "# scaling our data with sklearn's Standard scaler\n",
        "scaler = StandardScaler()\n",
        "x_train = scaler.fit_transform(x_train)\n",
        "x_test = scaler.transform(x_test)\n",
        "x_train.shape, y_train.shape, x_test.shape, y_test.shape"
      ]
    },
    {
      "cell_type": "code",
      "execution_count": null,
      "metadata": {
        "id": "mNASnOIjY5X1",
        "colab": {
          "base_uri": "https://localhost:8080/"
        },
        "outputId": "2f5b2f59-4c9a-4028-fe25-6c81c3555181"
      },
      "outputs": [
        {
          "output_type": "execute_result",
          "data": {
            "text/plain": [
              "((77229, 162, 1), (77229, 10), (25743, 162, 1), (25743, 10))"
            ]
          },
          "metadata": {},
          "execution_count": 10
        }
      ],
      "source": [
        "# making our data compatible to model. # 데이터의 차원 모델에 맞게 통일 \n",
        "x_train = np.expand_dims(x_train, axis=2)\n",
        "x_test = np.expand_dims(x_test, axis=2)\n",
        "x_train.shape, y_train.shape, x_test.shape, y_test.shape"
      ]
    },
    {
      "cell_type": "code",
      "source": [
        ""
      ],
      "metadata": {
        "id": "WcmFDp3VCdwo"
      },
      "execution_count": null,
      "outputs": []
    },
    {
      "cell_type": "markdown",
      "metadata": {
        "id": "sMueSz3zbaxV"
      },
      "source": [
        "### Modeling"
      ]
    },
    {
      "cell_type": "markdown",
      "metadata": {
        "id": "ItYpsVB-baxf"
      },
      "source": [
        "1. Convo layer + dense"
      ]
    },
    {
      "cell_type": "code",
      "execution_count": null,
      "metadata": {
        "colab": {
          "base_uri": "https://localhost:8080/"
        },
        "outputId": "1095c943-339a-433e-f7c9-adc437406685",
        "id": "B4kuz35nbaxf"
      },
      "outputs": [
        {
          "output_type": "stream",
          "name": "stdout",
          "text": [
            "Model: \"sequential_1\"\n",
            "_________________________________________________________________\n",
            " Layer (type)                Output Shape              Param #   \n",
            "=================================================================\n",
            " conv1d_4 (Conv1D)           (None, 162, 256)          1536      \n",
            "                                                                 \n",
            " max_pooling1d_4 (MaxPooling  (None, 81, 256)          0         \n",
            " 1D)                                                             \n",
            "                                                                 \n",
            " conv1d_5 (Conv1D)           (None, 81, 256)           327936    \n",
            "                                                                 \n",
            " max_pooling1d_5 (MaxPooling  (None, 41, 256)          0         \n",
            " 1D)                                                             \n",
            "                                                                 \n",
            " conv1d_6 (Conv1D)           (None, 41, 128)           163968    \n",
            "                                                                 \n",
            " max_pooling1d_6 (MaxPooling  (None, 21, 128)          0         \n",
            " 1D)                                                             \n",
            "                                                                 \n",
            " dropout_2 (Dropout)         (None, 21, 128)           0         \n",
            "                                                                 \n",
            " conv1d_7 (Conv1D)           (None, 21, 64)            41024     \n",
            "                                                                 \n",
            " max_pooling1d_7 (MaxPooling  (None, 11, 64)           0         \n",
            " 1D)                                                             \n",
            "                                                                 \n",
            " flatten_1 (Flatten)         (None, 704)               0         \n",
            "                                                                 \n",
            " dense_2 (Dense)             (None, 32)                22560     \n",
            "                                                                 \n",
            " dropout_3 (Dropout)         (None, 32)                0         \n",
            "                                                                 \n",
            " dense_3 (Dense)             (None, 10)                330       \n",
            "                                                                 \n",
            "=================================================================\n",
            "Total params: 557,354\n",
            "Trainable params: 557,354\n",
            "Non-trainable params: 0\n",
            "_________________________________________________________________\n"
          ]
        }
      ],
      "source": [
        "model=Sequential()\n",
        "model.add(Conv1D(256, kernel_size=5, strides=1, padding='same', activation='relu', input_shape=(x_train.shape[1], 1)))\n",
        "model.add(MaxPooling1D(pool_size=5, strides = 2, padding = 'same'))\n",
        "\n",
        "model.add(Conv1D(256, kernel_size=5, strides=1, padding='same', activation='relu'))\n",
        "model.add(MaxPooling1D(pool_size=5, strides = 2, padding = 'same'))\n",
        "\n",
        "model.add(Conv1D(128, kernel_size=5, strides=1, padding='same', activation='relu'))\n",
        "model.add(MaxPooling1D(pool_size=5, strides = 2, padding = 'same'))\n",
        "model.add(Dropout(0.2))\n",
        "\n",
        "model.add(Conv1D(64, kernel_size=5, strides=1, padding='same', activation='relu'))\n",
        "model.add(MaxPooling1D(pool_size=5, strides = 2, padding = 'same'))\n",
        "\n",
        "model.add(Flatten())\n",
        "model.add(Dense(units=32, activation='relu'))\n",
        "model.add(Dropout(0.3))\n",
        "\n",
        "model.add(Dense(units=10, activation='softmax'))\n",
        "model.compile(optimizer = 'adam' , loss = 'categorical_crossentropy' , metrics = ['accuracy'])\n",
        "\n",
        "model.summary()"
      ]
    },
    {
      "cell_type": "markdown",
      "metadata": {
        "id": "Vqm5HPVWZFa0"
      },
      "source": [
        "2. LSTM + dense"
      ]
    },
    {
      "cell_type": "code",
      "execution_count": null,
      "metadata": {
        "id": "b91-it8IZEHD"
      },
      "outputs": [],
      "source": [
        "# model=Sequential()\n",
        "# model.add(keras.layers.LSTM(128, input_shape=(x_train.shape[1], x_train.shape[2]), return_sequences=True))\n",
        "# model.add(keras.layers.LSTM(128))\n",
        "# model.add(Dense(units=32, activation='relu'))\n",
        "# model.add(Dropout(0.3))\n",
        "\n",
        "# model.add(Dense(units=7, activation='softmax'))\n",
        "# model.compile(optimizer = 'adam' , loss = 'categorical_crossentropy' , metrics = ['accuracy'])\n",
        "\n",
        "# model.summary()"
      ]
    },
    {
      "cell_type": "code",
      "execution_count": null,
      "metadata": {
        "colab": {
          "base_uri": "https://localhost:8080/"
        },
        "outputId": "86f5c6f0-5972-448c-a129-2965a0607919",
        "id": "pHgCWtcMbaxg"
      },
      "outputs": [
        {
          "output_type": "stream",
          "name": "stdout",
          "text": [
            "Epoch 1/50\n",
            "1207/1207 [==============================] - 383s 314ms/step - loss: 1.5230 - accuracy: 0.4548 - val_loss: 1.3051 - val_accuracy: 0.5058 - lr: 0.0010\n",
            "Epoch 2/50\n",
            "1207/1207 [==============================] - 369s 305ms/step - loss: 1.3181 - accuracy: 0.5003 - val_loss: 1.2137 - val_accuracy: 0.5369 - lr: 0.0010\n",
            "Epoch 3/50\n",
            "1207/1207 [==============================] - 366s 303ms/step - loss: 1.2621 - accuracy: 0.5172 - val_loss: 1.1882 - val_accuracy: 0.5462 - lr: 0.0010\n",
            "Epoch 4/50\n",
            "1207/1207 [==============================] - 364s 302ms/step - loss: 1.2257 - accuracy: 0.5335 - val_loss: 1.1575 - val_accuracy: 0.5516 - lr: 0.0010\n",
            "Epoch 5/50\n",
            "1207/1207 [==============================] - 371s 308ms/step - loss: 1.2004 - accuracy: 0.5420 - val_loss: 1.1226 - val_accuracy: 0.5674 - lr: 0.0010\n",
            "Epoch 6/50\n",
            "1207/1207 [==============================] - 366s 303ms/step - loss: 1.1726 - accuracy: 0.5513 - val_loss: 1.1227 - val_accuracy: 0.5746 - lr: 0.0010\n",
            "Epoch 7/50\n",
            "1207/1207 [==============================] - 363s 301ms/step - loss: 1.1535 - accuracy: 0.5590 - val_loss: 1.1022 - val_accuracy: 0.5795 - lr: 0.0010\n",
            "Epoch 8/50\n",
            "1207/1207 [==============================] - 361s 299ms/step - loss: 1.1327 - accuracy: 0.5671 - val_loss: 1.0959 - val_accuracy: 0.5751 - lr: 0.0010\n",
            "Epoch 9/50\n",
            "1207/1207 [==============================] - 361s 299ms/step - loss: 1.1186 - accuracy: 0.5722 - val_loss: 1.0753 - val_accuracy: 0.5866 - lr: 0.0010\n",
            "Epoch 10/50\n",
            "1207/1207 [==============================] - 364s 302ms/step - loss: 1.1055 - accuracy: 0.5787 - val_loss: 1.0589 - val_accuracy: 0.5961 - lr: 0.0010\n",
            "Epoch 11/50\n",
            "1207/1207 [==============================] - 366s 303ms/step - loss: 1.0942 - accuracy: 0.5827 - val_loss: 1.0484 - val_accuracy: 0.5971 - lr: 0.0010\n",
            "Epoch 12/50\n",
            "1207/1207 [==============================] - 363s 300ms/step - loss: 1.0771 - accuracy: 0.5895 - val_loss: 1.0425 - val_accuracy: 0.6009 - lr: 0.0010\n",
            "Epoch 13/50\n",
            "1207/1207 [==============================] - 361s 299ms/step - loss: 1.0671 - accuracy: 0.5935 - val_loss: 1.0389 - val_accuracy: 0.5979 - lr: 0.0010\n",
            "Epoch 14/50\n",
            "1207/1207 [==============================] - 358s 297ms/step - loss: 1.0543 - accuracy: 0.5987 - val_loss: 1.0427 - val_accuracy: 0.5988 - lr: 0.0010\n",
            "Epoch 15/50\n",
            "1207/1207 [==============================] - 358s 296ms/step - loss: 1.0465 - accuracy: 0.6024 - val_loss: 1.0434 - val_accuracy: 0.5971 - lr: 0.0010\n",
            "Epoch 16/50\n",
            "1207/1207 [==============================] - 359s 297ms/step - loss: 1.0341 - accuracy: 0.6082 - val_loss: 1.0225 - val_accuracy: 0.6096 - lr: 0.0010\n",
            "Epoch 17/50\n",
            "1207/1207 [==============================] - 358s 296ms/step - loss: 1.0261 - accuracy: 0.6090 - val_loss: 1.0178 - val_accuracy: 0.6105 - lr: 0.0010\n",
            "Epoch 18/50\n",
            "1207/1207 [==============================] - 359s 298ms/step - loss: 1.0166 - accuracy: 0.6122 - val_loss: 1.0156 - val_accuracy: 0.6117 - lr: 0.0010\n",
            "Epoch 19/50\n",
            "1207/1207 [==============================] - 357s 296ms/step - loss: 1.0072 - accuracy: 0.6158 - val_loss: 1.0152 - val_accuracy: 0.6137 - lr: 0.0010\n",
            "Epoch 20/50\n",
            "1207/1207 [==============================] - 357s 296ms/step - loss: 1.0004 - accuracy: 0.6183 - val_loss: 0.9900 - val_accuracy: 0.6180 - lr: 0.0010\n",
            "Epoch 21/50\n",
            "1207/1207 [==============================] - 357s 296ms/step - loss: 0.9943 - accuracy: 0.6219 - val_loss: 0.9949 - val_accuracy: 0.6216 - lr: 0.0010\n",
            "Epoch 22/50\n",
            "1207/1207 [==============================] - 358s 297ms/step - loss: 0.9859 - accuracy: 0.6258 - val_loss: 0.9975 - val_accuracy: 0.6162 - lr: 0.0010\n",
            "Epoch 23/50\n",
            "1207/1207 [==============================] - 357s 296ms/step - loss: 0.9802 - accuracy: 0.6271 - val_loss: 0.9789 - val_accuracy: 0.6255 - lr: 0.0010\n",
            "Epoch 24/50\n",
            "1207/1207 [==============================] - 356s 295ms/step - loss: 0.9706 - accuracy: 0.6298 - val_loss: 0.9774 - val_accuracy: 0.6265 - lr: 0.0010\n",
            "Epoch 25/50\n",
            "1207/1207 [==============================] - 355s 294ms/step - loss: 0.9647 - accuracy: 0.6346 - val_loss: 0.9861 - val_accuracy: 0.6215 - lr: 0.0010\n",
            "Epoch 26/50\n",
            "1207/1207 [==============================] - 356s 295ms/step - loss: 0.9571 - accuracy: 0.6366 - val_loss: 0.9782 - val_accuracy: 0.6292 - lr: 0.0010\n",
            "Epoch 27/50\n",
            "1207/1207 [==============================] - 358s 296ms/step - loss: 0.9506 - accuracy: 0.6387 - val_loss: 0.9734 - val_accuracy: 0.6307 - lr: 0.0010\n",
            "Epoch 28/50\n",
            "1207/1207 [==============================] - 357s 296ms/step - loss: 0.9474 - accuracy: 0.6385 - val_loss: 0.9682 - val_accuracy: 0.6306 - lr: 0.0010\n",
            "Epoch 29/50\n",
            "1207/1207 [==============================] - 357s 296ms/step - loss: 0.9392 - accuracy: 0.6425 - val_loss: 0.9729 - val_accuracy: 0.6314 - lr: 0.0010\n",
            "Epoch 30/50\n",
            "1207/1207 [==============================] - 358s 297ms/step - loss: 0.9295 - accuracy: 0.6466 - val_loss: 0.9809 - val_accuracy: 0.6268 - lr: 0.0010\n",
            "Epoch 31/50\n",
            "1207/1207 [==============================] - 359s 297ms/step - loss: 0.9261 - accuracy: 0.6467 - val_loss: 0.9698 - val_accuracy: 0.6322 - lr: 0.0010\n",
            "Epoch 32/50\n",
            "1207/1207 [==============================] - 358s 296ms/step - loss: 0.9212 - accuracy: 0.6483 - val_loss: 0.9593 - val_accuracy: 0.6359 - lr: 0.0010\n",
            "Epoch 33/50\n",
            "1207/1207 [==============================] - 357s 295ms/step - loss: 0.9149 - accuracy: 0.6512 - val_loss: 0.9721 - val_accuracy: 0.6259 - lr: 0.0010\n",
            "Epoch 34/50\n",
            "1207/1207 [==============================] - 357s 296ms/step - loss: 0.9093 - accuracy: 0.6540 - val_loss: 0.9703 - val_accuracy: 0.6354 - lr: 0.0010\n",
            "Epoch 35/50\n",
            "1207/1207 [==============================] - 361s 299ms/step - loss: 0.8990 - accuracy: 0.6591 - val_loss: 0.9676 - val_accuracy: 0.6376 - lr: 0.0010\n",
            "Epoch 36/50\n",
            "1207/1207 [==============================] - 362s 300ms/step - loss: 0.8954 - accuracy: 0.6602 - val_loss: 0.9589 - val_accuracy: 0.6403 - lr: 0.0010\n",
            "Epoch 37/50\n",
            "1207/1207 [==============================] - 361s 299ms/step - loss: 0.8940 - accuracy: 0.6618 - val_loss: 0.9662 - val_accuracy: 0.6413 - lr: 0.0010\n",
            "Epoch 38/50\n",
            "1207/1207 [==============================] - 365s 302ms/step - loss: 0.8896 - accuracy: 0.6636 - val_loss: 0.9557 - val_accuracy: 0.6441 - lr: 0.0010\n",
            "Epoch 39/50\n",
            "1207/1207 [==============================] - 364s 301ms/step - loss: 0.8805 - accuracy: 0.6655 - val_loss: 0.9558 - val_accuracy: 0.6435 - lr: 0.0010\n",
            "Epoch 40/50\n",
            "1207/1207 [==============================] - 362s 300ms/step - loss: 0.8749 - accuracy: 0.6681 - val_loss: 0.9587 - val_accuracy: 0.6413 - lr: 0.0010\n",
            "Epoch 41/50\n",
            "1207/1207 [==============================] - 363s 301ms/step - loss: 0.8704 - accuracy: 0.6700 - val_loss: 0.9524 - val_accuracy: 0.6439 - lr: 0.0010\n",
            "Epoch 42/50\n",
            "1207/1207 [==============================] - 363s 301ms/step - loss: 0.8668 - accuracy: 0.6729 - val_loss: 0.9603 - val_accuracy: 0.6439 - lr: 0.0010\n",
            "Epoch 43/50\n",
            "1207/1207 [==============================] - 362s 300ms/step - loss: 0.8544 - accuracy: 0.6757 - val_loss: 0.9693 - val_accuracy: 0.6464 - lr: 0.0010\n",
            "Epoch 44/50\n",
            "1207/1207 [==============================] - 363s 301ms/step - loss: 0.8528 - accuracy: 0.6769 - val_loss: 0.9656 - val_accuracy: 0.6437 - lr: 0.0010\n",
            "Epoch 45/50\n",
            "1207/1207 [==============================] - 360s 298ms/step - loss: 0.8496 - accuracy: 0.6774 - val_loss: 0.9525 - val_accuracy: 0.6479 - lr: 0.0010\n",
            "Epoch 46/50\n",
            "1207/1207 [==============================] - 360s 299ms/step - loss: 0.8425 - accuracy: 0.6794 - val_loss: 0.9509 - val_accuracy: 0.6500 - lr: 0.0010\n",
            "Epoch 47/50\n",
            "1207/1207 [==============================] - 361s 299ms/step - loss: 0.8383 - accuracy: 0.6823 - val_loss: 0.9667 - val_accuracy: 0.6440 - lr: 0.0010\n",
            "Epoch 48/50\n",
            "1207/1207 [==============================] - 361s 299ms/step - loss: 0.8374 - accuracy: 0.6815 - val_loss: 0.9377 - val_accuracy: 0.6537 - lr: 0.0010\n",
            "Epoch 49/50\n",
            "1207/1207 [==============================] - 363s 301ms/step - loss: 0.8259 - accuracy: 0.6888 - val_loss: 0.9571 - val_accuracy: 0.6472 - lr: 0.0010\n",
            "Epoch 50/50\n",
            "1207/1207 [==============================] - 356s 295ms/step - loss: 0.8234 - accuracy: 0.6876 - val_loss: 0.9520 - val_accuracy: 0.6541 - lr: 0.0010\n"
          ]
        }
      ],
      "source": [
        "rlrp = ReduceLROnPlateau(monitor='loss', factor=0.4, verbose=0, patience=2, min_lr=0.0000001)\n",
        "history=model.fit(x_train, y_train, batch_size=64, epochs=50, validation_data=(x_test, y_test), callbacks=[rlrp])"
      ]
    },
    {
      "cell_type": "code",
      "execution_count": null,
      "metadata": {
        "colab": {
          "base_uri": "https://localhost:8080/",
          "height": 439
        },
        "outputId": "5567dc2a-c07a-402d-b565-834bd8efd6a5",
        "id": "-v2lc0sybaxg"
      },
      "outputs": [
        {
          "output_type": "stream",
          "name": "stdout",
          "text": [
            "805/805 [==============================] - 27s 33ms/step - loss: 0.9520 - accuracy: 0.6541\n",
            "Accuracy of our model on test data :  65.41195511817932 %\n"
          ]
        },
        {
          "output_type": "display_data",
          "data": {
            "text/plain": [
              "<Figure size 1440x432 with 2 Axes>"
            ],
            "image/png": "[encoded data removed]"
          },
          "metadata": {}
        }
      ],
      "source": [
        "print(\"Accuracy of our model on test data : \" , model.evaluate(x_test,y_test)[1]*100 , \"%\")\n",
        "\n",
        "epochs = [i for i in range(50)]\n",
        "fig , ax = plt.subplots(1,2)\n",
        "train_acc = history.history['accuracy']\n",
        "train_loss = history.history['loss']\n",
        "test_acc = history.history['val_accuracy']\n",
        "test_loss = history.history['val_loss']\n",
        "\n",
        "fig.set_size_inches(20,6)\n",
        "ax[0].plot(epochs , train_loss , label = 'Training Loss')\n",
        "ax[0].plot(epochs , test_loss , label = 'Testing Loss')\n",
        "ax[0].set_title('Training & Testing Loss')\n",
        "ax[0].legend()\n",
        "ax[0].set_xlabel(\"Epochs\")\n",
        "\n",
        "ax[1].plot(epochs , train_acc , label = 'Training Accuracy')\n",
        "ax[1].plot(epochs , test_acc , label = 'Testing Accuracy')\n",
        "ax[1].set_title('Training & Testing Accuracy')\n",
        "ax[1].legend()\n",
        "ax[1].set_xlabel(\"Epochs\")\n",
        "plt.show()\n"
      ]
    },
    {
      "cell_type": "code",
      "execution_count": null,
      "metadata": {
        "id": "eyXUQ9PWbaxh"
      },
      "outputs": [],
      "source": [
        "# predicting on test data.\n",
        "pred_test = model.predict(x_test)\n",
        "y_pred = encoder.inverse_transform(pred_test)\n",
        "\n",
        "y_test = encoder.inverse_transform(y_test)"
      ]
    },
    {
      "cell_type": "code",
      "source": [
        "df = pd.DataFrame(pred_test)\n",
        "df.to_csv('pred.csv', index=False)"
      ],
      "metadata": {
        "id": "FJ8eTu2UkWAr"
      },
      "execution_count": null,
      "outputs": []
    },
    {
      "cell_type": "code",
      "execution_count": null,
      "metadata": {
        "colab": {
          "base_uri": "https://localhost:8080/",
          "height": 363
        },
        "outputId": "fa454b85-5cd8-4281-ad19-f014a4d9f4bb",
        "id": "M6mJDKKgbaxh"
      },
      "outputs": [
        {
          "output_type": "execute_result",
          "data": {
            "text/plain": [
              "  Predicted Labels Actual Labels\n",
              "0          Neutral       Neutral\n",
              "1          Neutral       Neutral\n",
              "2            Anger         Wound\n",
              "3            Happy         Anger\n",
              "4            Happy         Happy\n",
              "5          Neutral       Neutral\n",
              "6             Fear          Fear\n",
              "7          Anxiety   Embarrassed\n",
              "8          Disgust         Happy\n",
              "9              Sad           Sad"
            ],
            "text/html": [
              "\n",
              "  <div id=\"df-64cc9890-677e-4e8c-a618-b7d9e856f041\">\n",
              "    <div class=\"colab-df-container\">\n",
              "      <div>\n",
              "<style scoped>\n",
              "    .dataframe tbody tr th:only-of-type {\n",
              "        vertical-align: middle;\n",
              "    }\n",
              "\n",
              "    .dataframe tbody tr th {\n",
              "        vertical-align: top;\n",
              "    }\n",
              "\n",
              "    .dataframe thead th {\n",
              "        text-align: right;\n",
              "    }\n",
              "</style>\n",
              "<table border=\"1\" class=\"dataframe\">\n",
              "  <thead>\n",
              "    <tr style=\"text-align: right;\">\n",
              "      <th></th>\n",
              "      <th>Predicted Labels</th>\n",
              "      <th>Actual Labels</th>\n",
              "    </tr>\n",
              "  </thead>\n",
              "  <tbody>\n",
              "    <tr>\n",
              "      <th>0</th>\n",
              "      <td>Neutral</td>\n",
              "      <td>Neutral</td>\n",
              "    </tr>\n",
              "    <tr>\n",
              "      <th>1</th>\n",
              "      <td>Neutral</td>\n",
              "      <td>Neutral</td>\n",
              "    </tr>\n",
              "    <tr>\n",
              "      <th>2</th>\n",
              "      <td>Anger</td>\n",
              "      <td>Wound</td>\n",
              "    </tr>\n",
              "    <tr>\n",
              "      <th>3</th>\n",
              "      <td>Happy</td>\n",
              "      <td>Anger</td>\n",
              "    </tr>\n",
              "    <tr>\n",
              "      <th>4</th>\n",
              "      <td>Happy</td>\n",
              "      <td>Happy</td>\n",
              "    </tr>\n",
              "    <tr>\n",
              "      <th>5</th>\n",
              "      <td>Neutral</td>\n",
              "      <td>Neutral</td>\n",
              "    </tr>\n",
              "    <tr>\n",
              "      <th>6</th>\n",
              "      <td>Fear</td>\n",
              "      <td>Fear</td>\n",
              "    </tr>\n",
              "    <tr>\n",
              "      <th>7</th>\n",
              "      <td>Anxiety</td>\n",
              "      <td>Embarrassed</td>\n",
              "    </tr>\n",
              "    <tr>\n",
              "      <th>8</th>\n",
              "      <td>Disgust</td>\n",
              "      <td>Happy</td>\n",
              "    </tr>\n",
              "    <tr>\n",
              "      <th>9</th>\n",
              "      <td>Sad</td>\n",
              "      <td>Sad</td>\n",
              "    </tr>\n",
              "  </tbody>\n",
              "</table>\n",
              "</div>\n",
              "      <button class=\"colab-df-convert\" onclick=\"convertToInteractive('df-64cc9890-677e-4e8c-a618-b7d9e856f041')\"\n",
              "              title=\"Convert this dataframe to an interactive table.\"\n",
              "              style=\"display:none;\">\n",
              "        \n",
              "  <svg xmlns=\"http://www.w3.org/2000/svg\" height=\"24px\"viewBox=\"0 0 24 24\"\n",
              "       width=\"24px\">\n",
              "    <path d=\"M0 0h24v24H0V0z\" fill=\"none\"/>\n",
              "    <path d=\"M18.56 5.44l.94 2.06.94-2.06 2.06-.94-2.06-.94-.94-2.06-.94 2.06-2.06.94zm-11 1L8.5 8.5l.94-2.06 2.06-.94-2.06-.94L8.5 2.5l-.94 2.06-2.06.94zm10 10l.94 2.06.94-2.06 2.06-.94-2.06-.94-.94-2.06-.94 2.06-2.06.94z\"/><path d=\"M17.41 7.96l-1.37-1.37c-.4-.4-.92-.59-1.43-.59-.52 0-1.04.2-1.43.59L10.3 9.45l-7.72 7.72c-.78.78-.78 2.05 0 2.83L4 21.41c.39.39.9.59 1.41.59.51 0 1.02-.2 1.41-.59l7.78-7.78 2.81-2.81c.8-.78.8-2.07 0-2.86zM5.41 20L4 18.59l7.72-7.72 1.47 1.35L5.41 20z\"/>\n",
              "  </svg>\n",
              "      </button>\n",
              "      \n",
              "  <style>\n",
              "    .colab-df-container {\n",
              "      display:flex;\n",
              "      flex-wrap:wrap;\n",
              "      gap: 12px;\n",
              "    }\n",
              "\n",
              "    .colab-df-convert {\n",
              "      background-color: #E8F0FE;\n",
              "      border: none;\n",
              "      border-radius: 50%;\n",
              "      cursor: pointer;\n",
              "      display: none;\n",
              "      fill: #1967D2;\n",
              "      height: 32px;\n",
              "      padding: 0 0 0 0;\n",
              "      width: 32px;\n",
              "    }\n",
              "\n",
              "    .colab-df-convert:hover {\n",
              "      background-color: #E2EBFA;\n",
              "      box-shadow: 0px 1px 2px rgba(60, 64, 67, 0.3), 0px 1px 3px 1px rgba(60, 64, 67, 0.15);\n",
              "      fill: #174EA6;\n",
              "    }\n",
              "\n",
              "    [theme=dark] .colab-df-convert {\n",
              "      background-color: #3B4455;\n",
              "      fill: #D2E3FC;\n",
              "    }\n",
              "\n",
              "    [theme=dark] .colab-df-convert:hover {\n",
              "      background-color: #434B5C;\n",
              "      box-shadow: 0px 1px 3px 1px rgba(0, 0, 0, 0.15);\n",
              "      filter: drop-shadow(0px 1px 2px rgba(0, 0, 0, 0.3));\n",
              "      fill: #FFFFFF;\n",
              "    }\n",
              "  </style>\n",
              "\n",
              "      <script>\n",
              "        const buttonEl =\n",
              "          document.querySelector('#df-64cc9890-677e-4e8c-a618-b7d9e856f041 button.colab-df-convert');\n",
              "        buttonEl.style.display =\n",
              "          google.colab.kernel.accessAllowed ? 'block' : 'none';\n",
              "\n",
              "        async function convertToInteractive(key) {\n",
              "          const element = document.querySelector('#df-64cc9890-677e-4e8c-a618-b7d9e856f041');\n",
              "          const dataTable =\n",
              "            await google.colab.kernel.invokeFunction('convertToInteractive',\n",
              "                                                     [key], {});\n",
              "          if (!dataTable) return;\n",
              "\n",
              "          const docLinkHtml = 'Like what you see? Visit the ' +\n",
              "            '<a target=\"_blank\" href=https://colab.research.google.com/notebooks/data_table.ipynb>data table notebook</a>'\n",
              "            + ' to learn more about interactive tables.';\n",
              "          element.innerHTML = '';\n",
              "          dataTable['output_type'] = 'display_data';\n",
              "          await google.colab.output.renderOutput(dataTable, element);\n",
              "          const docLink = document.createElement('div');\n",
              "          docLink.innerHTML = docLinkHtml;\n",
              "          element.appendChild(docLink);\n",
              "        }\n",
              "      </script>\n",
              "    </div>\n",
              "  </div>\n",
              "  "
            ]
          },
          "metadata": {},
          "execution_count": 73
        }
      ],
      "source": [
        "df = pd.DataFrame(columns=['Predicted Labels', 'Actual Labels'])\n",
        "df['Predicted Labels'] = y_pred.flatten()\n",
        "df['Actual Labels'] = y_test.flatten()\n",
        "\n",
        "df.head(10)"
      ]
    },
    {
      "cell_type": "code",
      "execution_count": null,
      "metadata": {
        "colab": {
          "base_uri": "https://localhost:8080/",
          "height": 630
        },
        "outputId": "3c01adc5-2ef7-474d-cafd-8841e7706252",
        "id": "WeQkpE6Nbaxh"
      },
      "outputs": [
        {
          "output_type": "display_data",
          "data": {
            "text/plain": [
              "<Figure size 864x720 with 2 Axes>"
            ],
            "image/png": "[encoded data removed]"
          },
          "metadata": {}
        }
      ],
      "source": [
        "cm = confusion_matrix(y_test, y_pred)\n",
        "plt.figure(figsize = (12, 10))\n",
        "cm = pd.DataFrame(cm , index = [i for i in encoder.categories_] , columns = [i for i in encoder.categories_])\n",
        "sns.heatmap(cm, linecolor='white', cmap='Blues', linewidth=1, annot=True, fmt='')\n",
        "plt.title('Confusion Matrix', size=20)\n",
        "plt.xlabel('Predicted Labels', size=14)\n",
        "plt.ylabel('Actual Labels', size=14)\n",
        "plt.show()"
      ]
    },
    {
      "cell_type": "code",
      "execution_count": null,
      "metadata": {
        "colab": {
          "base_uri": "https://localhost:8080/"
        },
        "outputId": "f20b29db-1f41-40d6-b6f7-01868dc354e7",
        "id": "zZSYkWsObaxh"
      },
      "outputs": [
        {
          "output_type": "stream",
          "name": "stdout",
          "text": [
            "              precision    recall  f1-score   support\n",
            "\n",
            "       Anger       0.59      0.54      0.57      2500\n",
            "     Anxiety       0.38      0.29      0.33      1244\n",
            "     Disgust       0.48      0.46      0.47      1479\n",
            " Embarrassed       0.44      0.30      0.35      1252\n",
            "        Fear       0.71      0.39      0.51      1511\n",
            "       Happy       0.60      0.44      0.50      3578\n",
            "     Neutral       0.82      0.94      0.87      9202\n",
            "         Sad       0.48      0.71      0.57      2746\n",
            "    Surprise       0.88      0.74      0.80       964\n",
            "       Wound       0.43      0.51      0.47      1267\n",
            "\n",
            "    accuracy                           0.65     25743\n",
            "   macro avg       0.58      0.53      0.54     25743\n",
            "weighted avg       0.65      0.65      0.64     25743\n",
            "\n"
          ]
        }
      ],
      "source": [
        "print(classification_report(y_test, y_pred))\n"
      ]
    }
  ]
}